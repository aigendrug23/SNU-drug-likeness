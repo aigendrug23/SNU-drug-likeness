{
 "cells": [
  {
   "cell_type": "code",
   "execution_count": 22,
   "metadata": {},
   "outputs": [
    {
     "name": "stderr",
     "output_type": "stream",
     "text": [
      "Downloading...\n",
      "100%|██████████| 91.6k/91.6k [00:00<00:00, 228kiB/s]\n",
      "Loading...\n",
      "Done!\n"
     ]
    }
   ],
   "source": [
    "from tdc.single_pred import ADME\n",
    "\n",
    "# data_name = 'Caco2_Wang'\n",
    "# data_name = 'Solubility_AqSolDB'\n",
    "# data_name = 'BBB_Martins'\n",
    "# data_name = 'CYP3A4_Veith'\n",
    "data_name = 'Clearance_Hepatocyte_AZ'\n",
    "data = ADME(name = data_name)\n",
    "df = data.get_data()\n",
    "splits = data.get_split()"
   ]
  },
  {
   "cell_type": "code",
   "execution_count": 23,
   "metadata": {},
   "outputs": [],
   "source": [
    "data_dir = '/data/project/aigenintern/2023-2/TDC/'"
   ]
  },
  {
   "cell_type": "code",
   "execution_count": 24,
   "metadata": {},
   "outputs": [],
   "source": [
    "for split in ['train','valid','test']:\n",
    "    splits[split].to_csv(data_dir+f'{data_name}_{split}.csv')"
   ]
  },
  {
   "cell_type": "code",
   "execution_count": 25,
   "metadata": {},
   "outputs": [
    {
     "name": "stdout",
     "output_type": "stream",
     "text": [
      "/data/project/aigenintern/2023-2/TDC/Clearance_Hepatocyte_AZ_test.csv\n"
     ]
    }
   ],
   "source": [
    "print(data_dir+f'{data_name}_{split}.csv')"
   ]
  },
  {
   "cell_type": "code",
   "execution_count": null,
   "metadata": {},
   "outputs": [],
   "source": []
  }
 ],
 "metadata": {
  "kernelspec": {
   "display_name": "MTL",
   "language": "python",
   "name": "mtl"
  },
  "language_info": {
   "codemirror_mode": {
    "name": "ipython",
    "version": 3
   },
   "file_extension": ".py",
   "mimetype": "text/x-python",
   "name": "python",
   "nbconvert_exporter": "python",
   "pygments_lexer": "ipython3",
   "version": "3.9.18"
  }
 },
 "nbformat": 4,
 "nbformat_minor": 4
}
