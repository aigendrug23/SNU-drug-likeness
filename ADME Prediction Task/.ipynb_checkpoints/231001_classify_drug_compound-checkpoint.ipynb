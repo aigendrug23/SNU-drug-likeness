{
 "cells": [
  {
   "cell_type": "code",
   "execution_count": 1,
   "metadata": {},
   "outputs": [],
   "source": [
    "import argparse\n",
    "parser = argparse.ArgumentParser()\n",
    "parser.add_argument('--device', type=str, default='cuda:0')\n",
    "# gpustat -cuFi 1\n",
    "parser.add_argument('--seed', type=int, default=42)\n",
    "\n",
    "# learning params\n",
    "parser.add_argument('--lr', type=float, default=1e-4)\n",
    "parser.add_argument('--hdim', type=float, default=64)\n",
    "parser.add_argument('--batch_size', type=float, default=128)\n",
    "\n",
    "args = parser.parse_args([])"
   ]
  },
  {
   "cell_type": "code",
   "execution_count": 2,
   "metadata": {},
   "outputs": [
    {
     "name": "stderr",
     "output_type": "stream",
     "text": [
      "/data/project/aigenintern/2023-1/miniconda3/envs/pytorch/lib/python3.9/site-packages/tqdm/auto.py:21: TqdmWarning: IProgress not found. Please update jupyter and ipywidgets. See https://ipywidgets.readthedocs.io/en/stable/user_install.html\n",
      "  from .autonotebook import tqdm as notebook_tqdm\n"
     ]
    }
   ],
   "source": [
    "import pandas as pd\n",
    "import numpy as np\n",
    "import sys\n",
    "\n",
    "import torch\n",
    "import torch.nn as nn"
   ]
  },
  {
   "cell_type": "code",
   "execution_count": 3,
   "metadata": {},
   "outputs": [],
   "source": [
    "sys.path.append('../')\n",
    "from utils_dm import EarlyStopper, set_seed"
   ]
  },
  {
   "cell_type": "markdown",
   "metadata": {},
   "source": [
    "### Data loading"
   ]
  },
  {
   "cell_type": "code",
   "execution_count": 4,
   "metadata": {},
   "outputs": [],
   "source": [
    "model_name = f'DCC_Zerobase_ECFP_MLP_h{args.hdim}b{args.batch_size}_lr{args.lr}'"
   ]
  },
  {
   "cell_type": "code",
   "execution_count": 5,
   "metadata": {},
   "outputs": [
    {
     "name": "stdout",
     "output_type": "stream",
     "text": [
      "random seed with 42\n"
     ]
    }
   ],
   "source": [
    "set_seed(args.seed)"
   ]
  },
  {
   "cell_type": "code",
   "execution_count": 6,
   "metadata": {},
   "outputs": [],
   "source": [
    "dataset = 'DCC'\n",
    "\n",
    "traindf = pd.read_csv(f'../../../2023-2/processed_data/ECFP/{dataset}_train_ECFP_R2B1024.csv', index_col=0)\n",
    "validdf = pd.read_csv(f'../../../2023-2/processed_data/ECFP/{dataset}_valid_ECFP_R2B1024.csv', index_col=0)\n",
    "testdf = pd.read_csv(f'../../../2023-2/processed_data/ECFP/{dataset}_test_ECFP_R2B1024.csv', index_col=0)"
   ]
  },
  {
   "cell_type": "code",
   "execution_count": 7,
   "metadata": {},
   "outputs": [
    {
     "data": {
      "text/html": [
       "<div>\n",
       "<style scoped>\n",
       "    .dataframe tbody tr th:only-of-type {\n",
       "        vertical-align: middle;\n",
       "    }\n",
       "\n",
       "    .dataframe tbody tr th {\n",
       "        vertical-align: top;\n",
       "    }\n",
       "\n",
       "    .dataframe thead th {\n",
       "        text-align: right;\n",
       "    }\n",
       "</style>\n",
       "<table border=\"1\" class=\"dataframe\">\n",
       "  <thead>\n",
       "    <tr style=\"text-align: right;\">\n",
       "      <th></th>\n",
       "      <th>0</th>\n",
       "      <th>1</th>\n",
       "      <th>2</th>\n",
       "      <th>3</th>\n",
       "      <th>4</th>\n",
       "      <th>5</th>\n",
       "      <th>6</th>\n",
       "      <th>7</th>\n",
       "      <th>8</th>\n",
       "      <th>9</th>\n",
       "      <th>...</th>\n",
       "      <th>1015</th>\n",
       "      <th>1016</th>\n",
       "      <th>1017</th>\n",
       "      <th>1018</th>\n",
       "      <th>1019</th>\n",
       "      <th>1020</th>\n",
       "      <th>1021</th>\n",
       "      <th>1022</th>\n",
       "      <th>1023</th>\n",
       "      <th>label</th>\n",
       "    </tr>\n",
       "    <tr>\n",
       "      <th>Drug_ID</th>\n",
       "      <th></th>\n",
       "      <th></th>\n",
       "      <th></th>\n",
       "      <th></th>\n",
       "      <th></th>\n",
       "      <th></th>\n",
       "      <th></th>\n",
       "      <th></th>\n",
       "      <th></th>\n",
       "      <th></th>\n",
       "      <th></th>\n",
       "      <th></th>\n",
       "      <th></th>\n",
       "      <th></th>\n",
       "      <th></th>\n",
       "      <th></th>\n",
       "      <th></th>\n",
       "      <th></th>\n",
       "      <th></th>\n",
       "      <th></th>\n",
       "      <th></th>\n",
       "    </tr>\n",
       "  </thead>\n",
       "  <tbody>\n",
       "    <tr>\n",
       "      <th>DMZ0Q1G</th>\n",
       "      <td>0</td>\n",
       "      <td>0</td>\n",
       "      <td>0</td>\n",
       "      <td>0</td>\n",
       "      <td>0</td>\n",
       "      <td>0</td>\n",
       "      <td>0</td>\n",
       "      <td>0</td>\n",
       "      <td>0</td>\n",
       "      <td>0</td>\n",
       "      <td>...</td>\n",
       "      <td>0</td>\n",
       "      <td>0</td>\n",
       "      <td>0</td>\n",
       "      <td>0</td>\n",
       "      <td>1</td>\n",
       "      <td>0</td>\n",
       "      <td>0</td>\n",
       "      <td>0</td>\n",
       "      <td>0</td>\n",
       "      <td>1</td>\n",
       "    </tr>\n",
       "    <tr>\n",
       "      <th>DMIHRNA</th>\n",
       "      <td>0</td>\n",
       "      <td>0</td>\n",
       "      <td>1</td>\n",
       "      <td>0</td>\n",
       "      <td>1</td>\n",
       "      <td>0</td>\n",
       "      <td>0</td>\n",
       "      <td>0</td>\n",
       "      <td>0</td>\n",
       "      <td>0</td>\n",
       "      <td>...</td>\n",
       "      <td>0</td>\n",
       "      <td>0</td>\n",
       "      <td>0</td>\n",
       "      <td>0</td>\n",
       "      <td>0</td>\n",
       "      <td>0</td>\n",
       "      <td>0</td>\n",
       "      <td>0</td>\n",
       "      <td>0</td>\n",
       "      <td>1</td>\n",
       "    </tr>\n",
       "    <tr>\n",
       "      <th>837971300</th>\n",
       "      <td>0</td>\n",
       "      <td>1</td>\n",
       "      <td>1</td>\n",
       "      <td>0</td>\n",
       "      <td>1</td>\n",
       "      <td>0</td>\n",
       "      <td>0</td>\n",
       "      <td>0</td>\n",
       "      <td>0</td>\n",
       "      <td>0</td>\n",
       "      <td>...</td>\n",
       "      <td>0</td>\n",
       "      <td>0</td>\n",
       "      <td>0</td>\n",
       "      <td>0</td>\n",
       "      <td>1</td>\n",
       "      <td>0</td>\n",
       "      <td>0</td>\n",
       "      <td>0</td>\n",
       "      <td>0</td>\n",
       "      <td>0</td>\n",
       "    </tr>\n",
       "    <tr>\n",
       "      <th>1606832751</th>\n",
       "      <td>0</td>\n",
       "      <td>0</td>\n",
       "      <td>0</td>\n",
       "      <td>0</td>\n",
       "      <td>0</td>\n",
       "      <td>0</td>\n",
       "      <td>0</td>\n",
       "      <td>0</td>\n",
       "      <td>0</td>\n",
       "      <td>0</td>\n",
       "      <td>...</td>\n",
       "      <td>0</td>\n",
       "      <td>0</td>\n",
       "      <td>0</td>\n",
       "      <td>0</td>\n",
       "      <td>1</td>\n",
       "      <td>0</td>\n",
       "      <td>0</td>\n",
       "      <td>0</td>\n",
       "      <td>0</td>\n",
       "      <td>0</td>\n",
       "    </tr>\n",
       "    <tr>\n",
       "      <th>796454461</th>\n",
       "      <td>0</td>\n",
       "      <td>0</td>\n",
       "      <td>0</td>\n",
       "      <td>0</td>\n",
       "      <td>1</td>\n",
       "      <td>0</td>\n",
       "      <td>0</td>\n",
       "      <td>0</td>\n",
       "      <td>0</td>\n",
       "      <td>0</td>\n",
       "      <td>...</td>\n",
       "      <td>0</td>\n",
       "      <td>0</td>\n",
       "      <td>0</td>\n",
       "      <td>0</td>\n",
       "      <td>1</td>\n",
       "      <td>0</td>\n",
       "      <td>0</td>\n",
       "      <td>0</td>\n",
       "      <td>0</td>\n",
       "      <td>0</td>\n",
       "    </tr>\n",
       "    <tr>\n",
       "      <th>...</th>\n",
       "      <td>...</td>\n",
       "      <td>...</td>\n",
       "      <td>...</td>\n",
       "      <td>...</td>\n",
       "      <td>...</td>\n",
       "      <td>...</td>\n",
       "      <td>...</td>\n",
       "      <td>...</td>\n",
       "      <td>...</td>\n",
       "      <td>...</td>\n",
       "      <td>...</td>\n",
       "      <td>...</td>\n",
       "      <td>...</td>\n",
       "      <td>...</td>\n",
       "      <td>...</td>\n",
       "      <td>...</td>\n",
       "      <td>...</td>\n",
       "      <td>...</td>\n",
       "      <td>...</td>\n",
       "      <td>...</td>\n",
       "      <td>...</td>\n",
       "    </tr>\n",
       "    <tr>\n",
       "      <th>DM5EN79</th>\n",
       "      <td>0</td>\n",
       "      <td>0</td>\n",
       "      <td>0</td>\n",
       "      <td>0</td>\n",
       "      <td>0</td>\n",
       "      <td>0</td>\n",
       "      <td>0</td>\n",
       "      <td>0</td>\n",
       "      <td>0</td>\n",
       "      <td>0</td>\n",
       "      <td>...</td>\n",
       "      <td>0</td>\n",
       "      <td>0</td>\n",
       "      <td>0</td>\n",
       "      <td>0</td>\n",
       "      <td>1</td>\n",
       "      <td>0</td>\n",
       "      <td>0</td>\n",
       "      <td>0</td>\n",
       "      <td>0</td>\n",
       "      <td>1</td>\n",
       "    </tr>\n",
       "    <tr>\n",
       "      <th>2029293099</th>\n",
       "      <td>0</td>\n",
       "      <td>0</td>\n",
       "      <td>0</td>\n",
       "      <td>0</td>\n",
       "      <td>0</td>\n",
       "      <td>0</td>\n",
       "      <td>0</td>\n",
       "      <td>0</td>\n",
       "      <td>0</td>\n",
       "      <td>0</td>\n",
       "      <td>...</td>\n",
       "      <td>0</td>\n",
       "      <td>0</td>\n",
       "      <td>0</td>\n",
       "      <td>0</td>\n",
       "      <td>1</td>\n",
       "      <td>0</td>\n",
       "      <td>0</td>\n",
       "      <td>0</td>\n",
       "      <td>0</td>\n",
       "      <td>0</td>\n",
       "    </tr>\n",
       "    <tr>\n",
       "      <th>DM7U5QJ</th>\n",
       "      <td>0</td>\n",
       "      <td>1</td>\n",
       "      <td>0</td>\n",
       "      <td>0</td>\n",
       "      <td>0</td>\n",
       "      <td>0</td>\n",
       "      <td>0</td>\n",
       "      <td>0</td>\n",
       "      <td>0</td>\n",
       "      <td>0</td>\n",
       "      <td>...</td>\n",
       "      <td>0</td>\n",
       "      <td>0</td>\n",
       "      <td>0</td>\n",
       "      <td>0</td>\n",
       "      <td>0</td>\n",
       "      <td>0</td>\n",
       "      <td>0</td>\n",
       "      <td>0</td>\n",
       "      <td>0</td>\n",
       "      <td>1</td>\n",
       "    </tr>\n",
       "    <tr>\n",
       "      <th>DMOVY05</th>\n",
       "      <td>0</td>\n",
       "      <td>0</td>\n",
       "      <td>0</td>\n",
       "      <td>0</td>\n",
       "      <td>0</td>\n",
       "      <td>0</td>\n",
       "      <td>0</td>\n",
       "      <td>0</td>\n",
       "      <td>0</td>\n",
       "      <td>0</td>\n",
       "      <td>...</td>\n",
       "      <td>0</td>\n",
       "      <td>0</td>\n",
       "      <td>0</td>\n",
       "      <td>0</td>\n",
       "      <td>0</td>\n",
       "      <td>0</td>\n",
       "      <td>0</td>\n",
       "      <td>0</td>\n",
       "      <td>0</td>\n",
       "      <td>1</td>\n",
       "    </tr>\n",
       "    <tr>\n",
       "      <th>DMCRQHB</th>\n",
       "      <td>0</td>\n",
       "      <td>0</td>\n",
       "      <td>0</td>\n",
       "      <td>0</td>\n",
       "      <td>0</td>\n",
       "      <td>0</td>\n",
       "      <td>0</td>\n",
       "      <td>0</td>\n",
       "      <td>0</td>\n",
       "      <td>0</td>\n",
       "      <td>...</td>\n",
       "      <td>0</td>\n",
       "      <td>0</td>\n",
       "      <td>0</td>\n",
       "      <td>0</td>\n",
       "      <td>0</td>\n",
       "      <td>0</td>\n",
       "      <td>0</td>\n",
       "      <td>0</td>\n",
       "      <td>0</td>\n",
       "      <td>1</td>\n",
       "    </tr>\n",
       "  </tbody>\n",
       "</table>\n",
       "<p>3140 rows × 1025 columns</p>\n",
       "</div>"
      ],
      "text/plain": [
       "            0  1  2  3  4  5  6  7  8  9  ...  1015  1016  1017  1018  1019  \\\n",
       "Drug_ID                                   ...                                 \n",
       "DMZ0Q1G     0  0  0  0  0  0  0  0  0  0  ...     0     0     0     0     1   \n",
       "DMIHRNA     0  0  1  0  1  0  0  0  0  0  ...     0     0     0     0     0   \n",
       "837971300   0  1  1  0  1  0  0  0  0  0  ...     0     0     0     0     1   \n",
       "1606832751  0  0  0  0  0  0  0  0  0  0  ...     0     0     0     0     1   \n",
       "796454461   0  0  0  0  1  0  0  0  0  0  ...     0     0     0     0     1   \n",
       "...        .. .. .. .. .. .. .. .. .. ..  ...   ...   ...   ...   ...   ...   \n",
       "DM5EN79     0  0  0  0  0  0  0  0  0  0  ...     0     0     0     0     1   \n",
       "2029293099  0  0  0  0  0  0  0  0  0  0  ...     0     0     0     0     1   \n",
       "DM7U5QJ     0  1  0  0  0  0  0  0  0  0  ...     0     0     0     0     0   \n",
       "DMOVY05     0  0  0  0  0  0  0  0  0  0  ...     0     0     0     0     0   \n",
       "DMCRQHB     0  0  0  0  0  0  0  0  0  0  ...     0     0     0     0     0   \n",
       "\n",
       "            1020  1021  1022  1023  label  \n",
       "Drug_ID                                    \n",
       "DMZ0Q1G        0     0     0     0      1  \n",
       "DMIHRNA        0     0     0     0      1  \n",
       "837971300      0     0     0     0      0  \n",
       "1606832751     0     0     0     0      0  \n",
       "796454461      0     0     0     0      0  \n",
       "...          ...   ...   ...   ...    ...  \n",
       "DM5EN79        0     0     0     0      1  \n",
       "2029293099     0     0     0     0      0  \n",
       "DM7U5QJ        0     0     0     0      1  \n",
       "DMOVY05        0     0     0     0      1  \n",
       "DMCRQHB        0     0     0     0      1  \n",
       "\n",
       "[3140 rows x 1025 columns]"
      ]
     },
     "execution_count": 7,
     "metadata": {},
     "output_type": "execute_result"
    }
   ],
   "source": [
    "traindf"
   ]
  },
  {
   "cell_type": "code",
   "execution_count": 8,
   "metadata": {},
   "outputs": [],
   "source": [
    "from torch.utils.data import Dataset, DataLoader"
   ]
  },
  {
   "cell_type": "code",
   "execution_count": 9,
   "metadata": {},
   "outputs": [],
   "source": [
    "class MyDataset(Dataset):\n",
    "    def __init__(self, dataset, labels):\n",
    "        self.dataset = torch.tensor(dataset).float()\n",
    "        self.labels = torch.tensor(labels, dtype=torch.float32)\n",
    "    def __len__(self):\n",
    "        return len(self.dataset)\n",
    "\n",
    "    def __getitem__(self, idx):\n",
    "        return self.dataset[idx], self.labels[idx]"
   ]
  },
  {
   "cell_type": "code",
   "execution_count": 10,
   "metadata": {},
   "outputs": [
    {
     "data": {
      "text/plain": [
       "((3140,), 1570)"
      ]
     },
     "execution_count": 10,
     "metadata": {},
     "output_type": "execute_result"
    }
   ],
   "source": [
    "train_data, train_labels = traindf.values[:, :-1],  traindf.values[:, -1]\n",
    "valid_data, valid_labels = validdf.values[:, :-1],  validdf.values[:, -1]\n",
    "test_data, test_labels = testdf.values[:, :-1],  testdf.values[:, -1]\n",
    "train_labels.shape, (train_labels==1).sum() # check number of positives"
   ]
  },
  {
   "cell_type": "code",
   "execution_count": 11,
   "metadata": {},
   "outputs": [],
   "source": [
    "trainset = MyDataset(train_data, train_labels)\n",
    "validset = MyDataset(valid_data, valid_labels)\n",
    "testset = MyDataset(test_data, test_labels)"
   ]
  },
  {
   "cell_type": "code",
   "execution_count": 12,
   "metadata": {},
   "outputs": [],
   "source": [
    "# build dataloader\n",
    "trainloader = DataLoader(trainset, batch_size=args.batch_size, shuffle=False, num_workers=0, drop_last=False,\n",
    "                        generator=torch.Generator().manual_seed(42))\n",
    "fixed_trainloader = DataLoader(trainset, batch_size=args.batch_size, shuffle=False, num_workers=0, drop_last=False)\n",
    "validloader = DataLoader(validset, batch_size=args.batch_size, shuffle=False, num_workers=0, drop_last=False)\n",
    "testloader = DataLoader(testset, batch_size=args.batch_size, shuffle=False, num_workers=0, drop_last=False)"
   ]
  },
  {
   "cell_type": "markdown",
   "metadata": {},
   "source": [
    "# Get embeddings from trained model"
   ]
  },
  {
   "cell_type": "code",
   "execution_count": 13,
   "metadata": {},
   "outputs": [],
   "source": [
    "import torch\n",
    "import torch.nn as nn\n",
    "\n",
    "class NeuralNetwork(nn.Module):\n",
    "    def __init__(self, in_dim, hdim, out_dim=1, dropout=0.1):\n",
    "        super(NeuralNetwork, self).__init__()\n",
    "        self.encoder = nn.Sequential(\n",
    "            nn.Linear(in_dim,hdim),\n",
    "            nn.LayerNorm(hdim),\n",
    "            nn.ReLU(),\n",
    "            nn.Dropout(dropout),\n",
    "            nn.Linear(hdim,hdim)\n",
    "        )\n",
    "        self.prediction_head = nn.Sequential(\n",
    "            nn.LayerNorm(hdim),\n",
    "            nn.ReLU(),\n",
    "            nn.Dropout(dropout),\n",
    "            nn.Linear(hdim,out_dim)\n",
    "        )\n",
    "\n",
    "        \n",
    "    def forward(self, x):\n",
    "        x = self.encoder(x)\n",
    "        x = self.prediction_head(x)\n",
    "        return x"
   ]
  },
  {
   "cell_type": "code",
   "execution_count": 14,
   "metadata": {},
   "outputs": [],
   "source": [
    "in_dim = trainset[0][0].shape[0]\n",
    "model = NeuralNetwork(in_dim, args.hdim).to(args.device)"
   ]
  },
  {
   "cell_type": "code",
   "execution_count": 15,
   "metadata": {},
   "outputs": [],
   "source": [
    "# load pretrained model\n",
    "modelf = 'ckpts/Solubility_ECFP_MLP_h64b128_lr0.0001.pt'\n",
    "model.load_state_dict(torch.load(modelf,map_location=args.device))"
   ]
  },
  {
   "cell_type": "code",
   "execution_count": 16,
   "metadata": {},
   "outputs": [],
   "source": [
    "def get_embeddings(model, loader, args):\n",
    "    model.eval()\n",
    "    preds = []\n",
    "    with torch.no_grad():\n",
    "        for batch,label in loader:\n",
    "            batch = batch.to(args.device)\n",
    "            pred = model.encoder(batch)\n",
    "            preds.append(pred)\n",
    "    preds = torch.cat(preds, dim=0).cpu().numpy()\n",
    "    \n",
    "    return preds"
   ]
  },
  {
   "cell_type": "code",
   "execution_count": 17,
   "metadata": {},
   "outputs": [],
   "source": [
    "trainset_embeddings = get_embeddings(model, fixed_trainloader, args)\n",
    "validset_embeddings = get_embeddings(model, validloader, args)\n",
    "testset_embeddings = get_embeddings(model, testloader, args)"
   ]
  },
  {
   "cell_type": "code",
   "execution_count": 18,
   "metadata": {},
   "outputs": [
    {
     "data": {
      "text/plain": [
       "((3140, 64), (393, 64), (393, 64))"
      ]
     },
     "execution_count": 18,
     "metadata": {},
     "output_type": "execute_result"
    }
   ],
   "source": [
    "trainset_embeddings.shape , validset_embeddings.shape, testset_embeddings.shape # (# drugs, hidden_dim)"
   ]
  },
  {
   "cell_type": "markdown",
   "metadata": {},
   "source": [
    "### Visualize embedding space"
   ]
  },
  {
   "cell_type": "code",
   "execution_count": 19,
   "metadata": {},
   "outputs": [],
   "source": [
    "import matplotlib.pyplot as plt\n",
    "from sklearn.decomposition import PCA\n",
    "\n",
    "pca = PCA(n_components=2)"
   ]
  },
  {
   "cell_type": "code",
   "execution_count": 20,
   "metadata": {},
   "outputs": [],
   "source": [
    "pcs=pca.fit_transform(np.concatenate([trainset_embeddings,validset_embeddings,testset_embeddings]))\n",
    "pcdf=pd.DataFrame({'PC1':pcs[:,0],\n",
    "         'PC2':pcs[:,1],\n",
    "         'label':np.concatenate([train_labels, valid_labels, test_labels])})"
   ]
  },
  {
   "cell_type": "code",
   "execution_count": 21,
   "metadata": {},
   "outputs": [
    {
     "data": {
      "image/png": "[encoded data removed]",
      "text/plain": [
       "<Figure size 640x480 with 1 Axes>"
      ]
     },
     "metadata": {},
     "output_type": "display_data"
    }
   ],
   "source": [
    "s = 7\n",
    "plt.figure()\n",
    "\n",
    "qdf = pcdf[pcdf['label']==1]\n",
    "plt.scatter(qdf['PC1'],qdf['PC2'],\n",
    "           c='C0',label='Approved Drug', \n",
    "            alpha=.3, s=s)\n",
    "\n",
    "qdf = pcdf[pcdf['label']==0]\n",
    "plt.scatter(qdf['PC1'],qdf['PC2'],\n",
    "           c='C1',label='Compound', \n",
    "            alpha=.3, s=s)\n",
    "\n",
    "plt.title('PCA plot of Neural Network-generated space - Zero-base')\n",
    "plt.legend()\n",
    "plt.tight_layout()\n",
    "plt.show()"
   ]
  },
  {
   "cell_type": "markdown",
   "metadata": {},
   "source": [
    "# Train Drug Compound Classifier"
   ]
  },
  {
   "cell_type": "code",
   "execution_count": 22,
   "metadata": {},
   "outputs": [],
   "source": [
    "class DCC_NeuralNetwork(nn.Module):\n",
    "    def __init__(self, in_dim, hdim, out_dim=1, dropout=0.1):\n",
    "        super(DCC_NeuralNetwork, self).__init__()\n",
    "        self.prediction_head = nn.Sequential(\n",
    "            nn.Linear(in_dim, hdim),\n",
    "            nn.LayerNorm(hdim),\n",
    "            nn.ReLU(),\n",
    "            nn.Dropout(dropout),\n",
    "            nn.Linear(hdim, hdim),\n",
    "            nn.LayerNorm(hdim),\n",
    "            nn.ReLU(),\n",
    "            nn.Dropout(dropout),\n",
    "            nn.Linear(hdim,out_dim)\n",
    "        )\n",
    "\n",
    "        \n",
    "    def forward(self, x):\n",
    "        x = self.prediction_head(x)\n",
    "        return x"
   ]
  },
  {
   "cell_type": "code",
   "execution_count": 23,
   "metadata": {},
   "outputs": [],
   "source": [
    "DCC_trainset = MyDataset(trainset_embeddings, train_labels)\n",
    "DCC_validset = MyDataset(validset_embeddings, valid_labels)\n",
    "DCC_testset = MyDataset(testset_embeddings, test_labels)"
   ]
  },
  {
   "cell_type": "code",
   "execution_count": 24,
   "metadata": {},
   "outputs": [],
   "source": [
    "# build dataloader\n",
    "DCC_trainloader = DataLoader(DCC_trainset, batch_size=args.batch_size, shuffle=True, num_workers=0, drop_last=False,\n",
    "                        generator=torch.Generator().manual_seed(42))\n",
    "DCC_validloader = DataLoader(DCC_validset, batch_size=args.batch_size, shuffle=False, num_workers=0, drop_last=False)\n",
    "DCC_testloader = DataLoader(DCC_testset, batch_size=args.batch_size, shuffle=False, num_workers=0, drop_last=False)"
   ]
  },
  {
   "cell_type": "code",
   "execution_count": 25,
   "metadata": {},
   "outputs": [],
   "source": [
    "DCC_in_dim = DCC_trainset[0][0].shape[0]\n",
    "DCC_model = DCC_NeuralNetwork(DCC_in_dim, args.hdim).to(args.device)"
   ]
  },
  {
   "cell_type": "code",
   "execution_count": 26,
   "metadata": {},
   "outputs": [],
   "source": [
    "optimizer = torch.optim.Adam(DCC_model.parameters(), lr=args.lr)\n",
    "criterion = nn.BCEWithLogitsLoss()  # classification\n",
    "# criterion = nn.MSELoss()  # regression\n",
    "\n",
    "early_stopper = EarlyStopper(patience=20,printfunc=print,verbose=True,path=f'ckpts/{model_name}.pt')"
   ]
  },
  {
   "cell_type": "code",
   "execution_count": 27,
   "metadata": {},
   "outputs": [],
   "source": [
    "def train(model, trainloader, args, optimizer=optimizer, criterion=criterion):\n",
    "    model.train()\n",
    "    train_loss = 0\n",
    "    for batch, label in trainloader:\n",
    "        batch = batch.to(args.device)\n",
    "        label = label.to(args.device)\n",
    "\n",
    "        optimizer.zero_grad()\n",
    "        pred = model(batch).squeeze()\n",
    "        \n",
    "        loss = criterion(pred, label)\n",
    "        loss.backward()\n",
    "        optimizer.step()\n",
    "        train_loss += loss.item()\n",
    "    return train_loss/len(trainloader)\n",
    "\n",
    "def eval(model, loader, args, criterion=criterion, return_output=False, classification=True):\n",
    "    model.eval()\n",
    "    preds = []\n",
    "    labels = []\n",
    "    with torch.no_grad():\n",
    "        for batch, label in loader:\n",
    "            batch = batch.to(args.device)\n",
    "            label = label.to(args.device)\n",
    "            pred = model(batch)\n",
    "            preds.append(pred)\n",
    "            labels.append(label)\n",
    "    preds = torch.cat(preds, dim=0).squeeze()\n",
    "    labels = torch.cat(labels, dim=0).squeeze()\n",
    "    \n",
    "    loss = criterion(preds, labels)\n",
    "    \n",
    "    \n",
    "        \n",
    "\n",
    "    if return_output:\n",
    "        if classification:\n",
    "            preds = preds.sigmoid()\n",
    "        return loss.item(), preds.cpu().numpy(), labels.cpu().numpy()\n",
    "    else:\n",
    "        return loss.item()"
   ]
  },
  {
   "cell_type": "code",
   "execution_count": 28,
   "metadata": {
    "scrolled": true
   },
   "outputs": [
    {
     "name": "stdout",
     "output_type": "stream",
     "text": [
      "[Epoch1] train_loss: 0.7060, valid_loss: 0.6962\n",
      "[Epoch2] train_loss: 0.6924, valid_loss: 0.6870\n",
      "[Epoch3] train_loss: 0.6849, valid_loss: 0.6788\n",
      "[Epoch4] train_loss: 0.6790, valid_loss: 0.6704\n",
      "[Epoch5] train_loss: 0.6703, valid_loss: 0.6630\n",
      "[Epoch6] train_loss: 0.6650, valid_loss: 0.6551\n",
      "[Epoch7] train_loss: 0.6537, valid_loss: 0.6458\n",
      "[Epoch8] train_loss: 0.6510, valid_loss: 0.6374\n",
      "[Epoch9] train_loss: 0.6403, valid_loss: 0.6272\n",
      "[Epoch10] train_loss: 0.6276, valid_loss: 0.6188\n",
      "[Epoch11] train_loss: 0.6210, valid_loss: 0.6087\n",
      "[Epoch12] train_loss: 0.6112, valid_loss: 0.6005\n",
      "[Epoch13] train_loss: 0.6123, valid_loss: 0.5944\n",
      "[Epoch14] train_loss: 0.6028, valid_loss: 0.5880\n",
      "[Epoch15] train_loss: 0.5957, valid_loss: 0.5827\n",
      "[Epoch16] train_loss: 0.5886, valid_loss: 0.5784\n",
      "[Epoch17] train_loss: 0.5843, valid_loss: 0.5740\n",
      "[Epoch18] train_loss: 0.5736, valid_loss: 0.5702\n",
      "[Epoch19] train_loss: 0.5726, valid_loss: 0.5660\n",
      "[Epoch20] train_loss: 0.5715, valid_loss: 0.5630\n",
      "[Epoch21] train_loss: 0.5694, valid_loss: 0.5601\n",
      "[Epoch22] train_loss: 0.5605, valid_loss: 0.5577\n",
      "[Epoch23] train_loss: 0.5588, valid_loss: 0.5551\n",
      "[Epoch24] train_loss: 0.5568, valid_loss: 0.5530\n",
      "[Epoch25] train_loss: 0.5522, valid_loss: 0.5513\n",
      "[Epoch26] train_loss: 0.5505, valid_loss: 0.5505\n",
      "[Epoch27] train_loss: 0.5453, valid_loss: 0.5497\n",
      "[Epoch28] train_loss: 0.5406, valid_loss: 0.5483\n",
      "[Epoch29] train_loss: 0.5375, valid_loss: 0.5448\n",
      "[Epoch30] train_loss: 0.5350, valid_loss: 0.5434\n",
      "[Epoch31] train_loss: 0.5350, valid_loss: 0.5422\n",
      "[Epoch32] train_loss: 0.5291, valid_loss: 0.5393\n",
      "[Epoch33] train_loss: 0.5248, valid_loss: 0.5377\n",
      "[Epoch34] train_loss: 0.5234, valid_loss: 0.5368\n",
      "[Epoch35] train_loss: 0.5203, valid_loss: 0.5344\n",
      "[Epoch36] train_loss: 0.5196, valid_loss: 0.5330\n",
      "[Epoch37] train_loss: 0.5160, valid_loss: 0.5315\n",
      "[Epoch38] train_loss: 0.5114, valid_loss: 0.5289\n",
      "[Epoch39] train_loss: 0.5062, valid_loss: 0.5269\n",
      "[Epoch40] train_loss: 0.5065, valid_loss: 0.5241\n",
      "[Epoch41] train_loss: 0.4971, valid_loss: 0.5230\n",
      "[Epoch42] train_loss: 0.5015, valid_loss: 0.5223\n",
      "[Epoch43] train_loss: 0.4972, valid_loss: 0.5202\n",
      "[Epoch44] train_loss: 0.4997, valid_loss: 0.5171\n",
      "[Epoch45] train_loss: 0.4965, valid_loss: 0.5165\n",
      "[Epoch46] train_loss: 0.4995, valid_loss: 0.5139\n",
      "[Epoch47] train_loss: 0.4915, valid_loss: 0.5131\n",
      "[Epoch48] train_loss: 0.4820, valid_loss: 0.5105\n",
      "[Epoch49] train_loss: 0.4847, valid_loss: 0.5101\n",
      "[Epoch50] train_loss: 0.4801, valid_loss: 0.5071\n",
      "[Epoch51] train_loss: 0.4740, valid_loss: 0.5092\n",
      "EarlyStopping counter: 1/20\n",
      "[Epoch52] train_loss: 0.4776, valid_loss: 0.5080\n",
      "EarlyStopping counter: 2/20\n",
      "[Epoch53] train_loss: 0.4717, valid_loss: 0.5062\n",
      "[Epoch54] train_loss: 0.4739, valid_loss: 0.5048\n",
      "[Epoch55] train_loss: 0.4641, valid_loss: 0.5053\n",
      "EarlyStopping counter: 1/20\n",
      "[Epoch56] train_loss: 0.4661, valid_loss: 0.5024\n",
      "[Epoch57] train_loss: 0.4618, valid_loss: 0.5013\n",
      "[Epoch58] train_loss: 0.4643, valid_loss: 0.5000\n",
      "[Epoch59] train_loss: 0.4608, valid_loss: 0.5010\n",
      "EarlyStopping counter: 1/20\n",
      "[Epoch60] train_loss: 0.4617, valid_loss: 0.4975\n",
      "[Epoch61] train_loss: 0.4491, valid_loss: 0.4982\n",
      "EarlyStopping counter: 1/20\n",
      "[Epoch62] train_loss: 0.4493, valid_loss: 0.5000\n",
      "EarlyStopping counter: 2/20\n",
      "[Epoch63] train_loss: 0.4533, valid_loss: 0.4971\n",
      "[Epoch64] train_loss: 0.4480, valid_loss: 0.4982\n",
      "EarlyStopping counter: 1/20\n",
      "[Epoch65] train_loss: 0.4476, valid_loss: 0.4992\n",
      "EarlyStopping counter: 2/20\n",
      "[Epoch66] train_loss: 0.4412, valid_loss: 0.4959\n",
      "[Epoch67] train_loss: 0.4318, valid_loss: 0.4941\n",
      "[Epoch68] train_loss: 0.4385, valid_loss: 0.4937\n",
      "[Epoch69] train_loss: 0.4376, valid_loss: 0.4929\n",
      "[Epoch70] train_loss: 0.4333, valid_loss: 0.4909\n",
      "[Epoch71] train_loss: 0.4286, valid_loss: 0.4924\n",
      "EarlyStopping counter: 1/20\n",
      "[Epoch72] train_loss: 0.4316, valid_loss: 0.4937\n",
      "EarlyStopping counter: 2/20\n",
      "[Epoch73] train_loss: 0.4285, valid_loss: 0.4914\n",
      "EarlyStopping counter: 3/20\n",
      "[Epoch74] train_loss: 0.4274, valid_loss: 0.4905\n",
      "[Epoch75] train_loss: 0.4199, valid_loss: 0.4900\n",
      "[Epoch76] train_loss: 0.4268, valid_loss: 0.4935\n",
      "EarlyStopping counter: 1/20\n",
      "[Epoch77] train_loss: 0.4139, valid_loss: 0.4918\n",
      "EarlyStopping counter: 2/20\n",
      "[Epoch78] train_loss: 0.4129, valid_loss: 0.4904\n",
      "EarlyStopping counter: 3/20\n",
      "[Epoch79] train_loss: 0.4141, valid_loss: 0.4904\n",
      "EarlyStopping counter: 4/20\n",
      "[Epoch80] train_loss: 0.4122, valid_loss: 0.4889\n",
      "[Epoch81] train_loss: 0.4065, valid_loss: 0.4893\n",
      "EarlyStopping counter: 1/20\n",
      "[Epoch82] train_loss: 0.4077, valid_loss: 0.4883\n",
      "[Epoch83] train_loss: 0.4044, valid_loss: 0.4850\n",
      "[Epoch84] train_loss: 0.4107, valid_loss: 0.4873\n",
      "EarlyStopping counter: 1/20\n",
      "[Epoch85] train_loss: 0.4144, valid_loss: 0.4887\n",
      "EarlyStopping counter: 2/20\n",
      "[Epoch86] train_loss: 0.3974, valid_loss: 0.4905\n",
      "EarlyStopping counter: 3/20\n",
      "[Epoch87] train_loss: 0.3993, valid_loss: 0.4875\n",
      "EarlyStopping counter: 4/20\n",
      "[Epoch88] train_loss: 0.3995, valid_loss: 0.4859\n",
      "EarlyStopping counter: 5/20\n",
      "[Epoch89] train_loss: 0.3967, valid_loss: 0.4894\n",
      "EarlyStopping counter: 6/20\n",
      "[Epoch90] train_loss: 0.3931, valid_loss: 0.4871\n",
      "EarlyStopping counter: 7/20\n",
      "[Epoch91] train_loss: 0.3894, valid_loss: 0.4897\n",
      "EarlyStopping counter: 8/20\n",
      "[Epoch92] train_loss: 0.3846, valid_loss: 0.4885\n",
      "EarlyStopping counter: 9/20\n",
      "[Epoch93] train_loss: 0.3934, valid_loss: 0.4840\n",
      "[Epoch94] train_loss: 0.3851, valid_loss: 0.4909\n",
      "EarlyStopping counter: 1/20\n",
      "[Epoch95] train_loss: 0.3815, valid_loss: 0.4903\n",
      "EarlyStopping counter: 2/20\n",
      "[Epoch96] train_loss: 0.3882, valid_loss: 0.4870\n",
      "EarlyStopping counter: 3/20\n",
      "[Epoch97] train_loss: 0.3796, valid_loss: 0.4884\n",
      "EarlyStopping counter: 4/20\n",
      "[Epoch98] train_loss: 0.3834, valid_loss: 0.4883\n",
      "EarlyStopping counter: 5/20\n",
      "[Epoch99] train_loss: 0.3736, valid_loss: 0.4874\n",
      "EarlyStopping counter: 6/20\n",
      "[Epoch100] train_loss: 0.3791, valid_loss: 0.4877\n",
      "EarlyStopping counter: 7/20\n",
      "[Epoch101] train_loss: 0.3778, valid_loss: 0.4896\n",
      "EarlyStopping counter: 8/20\n",
      "[Epoch102] train_loss: 0.3674, valid_loss: 0.4877\n",
      "EarlyStopping counter: 9/20\n",
      "[Epoch103] train_loss: 0.3737, valid_loss: 0.4869\n",
      "EarlyStopping counter: 10/20\n",
      "[Epoch104] train_loss: 0.3758, valid_loss: 0.4864\n",
      "EarlyStopping counter: 11/20\n",
      "[Epoch105] train_loss: 0.3744, valid_loss: 0.4877\n",
      "EarlyStopping counter: 12/20\n",
      "[Epoch106] train_loss: 0.3698, valid_loss: 0.4908\n",
      "EarlyStopping counter: 13/20\n",
      "[Epoch107] train_loss: 0.3679, valid_loss: 0.4894\n",
      "EarlyStopping counter: 14/20\n",
      "[Epoch108] train_loss: 0.3678, valid_loss: 0.4945\n",
      "EarlyStopping counter: 15/20\n",
      "[Epoch109] train_loss: 0.3653, valid_loss: 0.4897\n",
      "EarlyStopping counter: 16/20\n",
      "[Epoch110] train_loss: 0.3587, valid_loss: 0.4905\n",
      "EarlyStopping counter: 17/20\n",
      "[Epoch111] train_loss: 0.3589, valid_loss: 0.4909\n",
      "EarlyStopping counter: 18/20\n",
      "[Epoch112] train_loss: 0.3614, valid_loss: 0.4897\n",
      "EarlyStopping counter: 19/20\n",
      "[Epoch113] train_loss: 0.3613, valid_loss: 0.4923\n",
      "EarlyStopping counter: 20/20\n",
      "early stopping\n"
     ]
    }
   ],
   "source": [
    "epoch = 0\n",
    "while True:\n",
    "    epoch+=1\n",
    "    train_loss = train(DCC_model,DCC_trainloader,args)\n",
    "    valid_loss = eval(DCC_model,DCC_validloader,args)\n",
    "    print(f'[Epoch{epoch}] train_loss: {train_loss:.4f}, valid_loss: {valid_loss:.4f}')\n",
    "    early_stopper(valid_loss,DCC_model)\n",
    "    if early_stopper.early_stop:\n",
    "        print('early stopping')\n",
    "        break"
   ]
  },
  {
   "cell_type": "markdown",
   "metadata": {},
   "source": [
    "### Validate"
   ]
  },
  {
   "cell_type": "code",
   "execution_count": 29,
   "metadata": {},
   "outputs": [
    {
     "name": "stdout",
     "output_type": "stream",
     "text": [
      "loaded best model \"ckpts/DCC_Zerobase_ECFP_MLP_h64b128_lr0.0001.pt\", valid loss: 0.4840\n"
     ]
    }
   ],
   "source": [
    "DCC_model.load_state_dict(torch.load(early_stopper.path, map_location=args.device))\n",
    "DCC_model.eval()\n",
    "print(f'loaded best model \"{early_stopper.path}\", valid loss: {early_stopper.val_loss_min:.4f}')"
   ]
  },
  {
   "cell_type": "code",
   "execution_count": 30,
   "metadata": {},
   "outputs": [
    {
     "name": "stdout",
     "output_type": "stream",
     "text": [
      "DCC: Final test loss: 0.5837\n"
     ]
    }
   ],
   "source": [
    "test_loss, test_preds, test_targets = eval(DCC_model,DCC_testloader,args, return_output = True)\n",
    "print(f'{dataset}: Final test loss: {test_loss:.4f}')\n",
    "\n",
    "# [Zero-base] DCC: Final test loss: 0.5837\n",
    "# [A] Solubility_AqSolDB: DCC: Final test loss: 0.5738\n",
    "# [D] BBB_Martins: DCC: Final test loss: 0.5404\n",
    "# [M] CYP3A4_Veith: DCC: Final test loss: 0.5143\n",
    "# [E] Clearance_Hepatocyte_AZ: DCC: Final test loss: 0.6543"
   ]
  },
  {
   "cell_type": "markdown",
   "metadata": {},
   "source": [
    "### Measure performance"
   ]
  },
  {
   "cell_type": "code",
   "execution_count": 31,
   "metadata": {},
   "outputs": [
    {
     "name": "stdout",
     "output_type": "stream",
     "text": [
      "Accuracy: 0.7226 | AUROC: 0.7843 | AUPRC: 0.7766 |  Precision: 0.7254 | Recall: 0.7143 | F1: 0.7198\n"
     ]
    }
   ],
   "source": [
    "# measure accuracy, auroc, auprc, precision, recall, f1\n",
    "from sklearn.metrics import roc_auc_score, average_precision_score, precision_recall_fscore_support, accuracy_score\n",
    "\n",
    "auroc = roc_auc_score(test_targets, test_preds)\n",
    "auprc = average_precision_score(test_targets, test_preds)\n",
    "acc = accuracy_score(test_targets, test_preds>0.5)\n",
    "precision, recall, f1, _ = precision_recall_fscore_support(test_targets, test_preds>0.5, average='binary')\n",
    "\n",
    "print(f'Accuracy: {acc:.4f} | AUROC: {auroc:.4f} | AUPRC: {auprc:.4f} |  Precision: {precision:.4f} | Recall: {recall:.4f} | F1: {f1:.4f}')\n",
    "\n",
    "# [Zero-base] Accuracy: 0.7226 | AUROC: 0.7843 | AUPRC: 0.7766 |  Precision: 0.7254 | Recall: 0.7143 | F1: 0.7198\n",
    "# [A] Solubility_AqSolDB: Accuracy: 0.7328 | AUROC: 0.7927 | AUPRC: 0.8062 | Precision: 0.7241 | Recall: 0.7500 | F1: 0.7368\n",
    "# [D] BBB_Martins: Accuracy: 0.7455 | AUROC: 0.8166 | AUPRC: 0.8181 | Precision: 0.7474 | Recall: 0.7398 | F1: 0.7436\n",
    "# [M] CYP3A4_Veith: Accuracy: 0.7430 | AUROC: 0.8286 | AUPRC: 0.8327 | Precision: 0.7684 | Recall: 0.6939 | F1: 0.7292\n",
    "# [E] Clearance_Hepatocyte_AZ: Accuracy: 0.6234 | AUROC: 0.6924 | AUPRC: 0.6669 | Precision: 0.6062 | Recall: 0.6990 | F1: 0.6493"
   ]
  },
  {
   "cell_type": "markdown",
   "metadata": {},
   "source": [
    "### Best pretrained model: BBB_Martins-pretrained embedding space \n",
    "- Accuracy: 0.7455 | AUROC: 0.8166 | AUPRC: 0.8181 | Precision: 0.7474 | Recall: 0.7398 | F1: 0.7436"
   ]
  },
  {
   "cell_type": "code",
   "execution_count": null,
   "metadata": {},
   "outputs": [],
   "source": []
  }
 ],
 "metadata": {
  "kernelspec": {
   "display_name": "MTL",
   "language": "python",
   "name": "mtl"
  },
  "language_info": {
   "codemirror_mode": {
    "name": "ipython",
    "version": 3
   },
   "file_extension": ".py",
   "mimetype": "text/x-python",
   "name": "python",
   "nbconvert_exporter": "python",
   "pygments_lexer": "ipython3",
   "version": "3.9.18"
  }
 },
 "nbformat": 4,
 "nbformat_minor": 4
}
