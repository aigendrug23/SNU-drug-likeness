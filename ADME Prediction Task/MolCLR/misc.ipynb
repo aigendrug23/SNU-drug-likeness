{
 "cells": [
  {
   "cell_type": "code",
   "execution_count": 1,
   "metadata": {},
   "outputs": [
    {
     "data": {
      "text/html": [
       "<div>\n",
       "<style scoped>\n",
       "    .dataframe tbody tr th:only-of-type {\n",
       "        vertical-align: middle;\n",
       "    }\n",
       "\n",
       "    .dataframe tbody tr th {\n",
       "        vertical-align: top;\n",
       "    }\n",
       "\n",
       "    .dataframe thead th {\n",
       "        text-align: right;\n",
       "    }\n",
       "</style>\n",
       "<table border=\"1\" class=\"dataframe\">\n",
       "  <thead>\n",
       "    <tr style=\"text-align: right;\">\n",
       "      <th></th>\n",
       "      <th>Drug</th>\n",
       "      <th>BBB</th>\n",
       "      <th>Clearance</th>\n",
       "    </tr>\n",
       "  </thead>\n",
       "  <tbody>\n",
       "    <tr>\n",
       "      <th>0</th>\n",
       "      <td>CC(C)(C)OC(=O)CCCc1ccc(N(CCCl)CCCl)cc1</td>\n",
       "      <td>1.0</td>\n",
       "      <td>NaN</td>\n",
       "    </tr>\n",
       "    <tr>\n",
       "      <th>1</th>\n",
       "      <td>CC(C)(C)OC(=O)CCCc1ccc(N(CCCl)CCCl)cc1</td>\n",
       "      <td>1.0</td>\n",
       "      <td>NaN</td>\n",
       "    </tr>\n",
       "    <tr>\n",
       "      <th>2</th>\n",
       "      <td>CC1COc2c(N3CCN(C)CC3)c(F)cc3c(=O)c(C(=O)O)cn1c23</td>\n",
       "      <td>1.0</td>\n",
       "      <td>NaN</td>\n",
       "    </tr>\n",
       "    <tr>\n",
       "      <th>3</th>\n",
       "      <td>CC1COc2c(N3CCN(C)CC3)c(F)cc3c(=O)c(C(=O)O)cn1c23</td>\n",
       "      <td>1.0</td>\n",
       "      <td>NaN</td>\n",
       "    </tr>\n",
       "    <tr>\n",
       "      <th>4</th>\n",
       "      <td>Cc1onc(-c2ccccc2Cl)c1C(=O)N[C@@H]1C(=O)N2[C@@H...</td>\n",
       "      <td>1.0</td>\n",
       "      <td>NaN</td>\n",
       "    </tr>\n",
       "    <tr>\n",
       "      <th>...</th>\n",
       "      <td>...</td>\n",
       "      <td>...</td>\n",
       "      <td>...</td>\n",
       "    </tr>\n",
       "    <tr>\n",
       "      <th>2220</th>\n",
       "      <td>CCc1cccc2c3c([nH]c12)C(CC)(CC(=O)O)OCC3</td>\n",
       "      <td>NaN</td>\n",
       "      <td>-0.601052</td>\n",
       "    </tr>\n",
       "    <tr>\n",
       "      <th>2221</th>\n",
       "      <td>Cc1cc(CN2Cc3ccccc3C2C(=O)Nc2ccc(Cl)cc2Cl)ccc1O...</td>\n",
       "      <td>NaN</td>\n",
       "      <td>-0.558425</td>\n",
       "    </tr>\n",
       "    <tr>\n",
       "      <th>2222</th>\n",
       "      <td>COc1cccc2c1c(NS(=O)(=O)c1ccc(Cl)s1)nn2Cc1cccc(...</td>\n",
       "      <td>NaN</td>\n",
       "      <td>-0.457888</td>\n",
       "    </tr>\n",
       "    <tr>\n",
       "      <th>2223</th>\n",
       "      <td>CO[C@H]1CC[C@]2(CC1)Cc1ccc(-c3cc(Cl)cc(C#N)c3)...</td>\n",
       "      <td>NaN</td>\n",
       "      <td>-0.606883</td>\n",
       "    </tr>\n",
       "    <tr>\n",
       "      <th>2224</th>\n",
       "      <td>COc1ccc(COc2nc(Br)cnc2NS(=O)(=O)c2ccc(C)cc2)cc...</td>\n",
       "      <td>NaN</td>\n",
       "      <td>-0.236706</td>\n",
       "    </tr>\n",
       "  </tbody>\n",
       "</table>\n",
       "<p>2225 rows × 3 columns</p>\n",
       "</div>"
      ],
      "text/plain": [
       "                                                   Drug  BBB  Clearance\n",
       "0                CC(C)(C)OC(=O)CCCc1ccc(N(CCCl)CCCl)cc1  1.0        NaN\n",
       "1                CC(C)(C)OC(=O)CCCc1ccc(N(CCCl)CCCl)cc1  1.0        NaN\n",
       "2      CC1COc2c(N3CCN(C)CC3)c(F)cc3c(=O)c(C(=O)O)cn1c23  1.0        NaN\n",
       "3      CC1COc2c(N3CCN(C)CC3)c(F)cc3c(=O)c(C(=O)O)cn1c23  1.0        NaN\n",
       "4     Cc1onc(-c2ccccc2Cl)c1C(=O)N[C@@H]1C(=O)N2[C@@H...  1.0        NaN\n",
       "...                                                 ...  ...        ...\n",
       "2220            CCc1cccc2c3c([nH]c12)C(CC)(CC(=O)O)OCC3  NaN  -0.601052\n",
       "2221  Cc1cc(CN2Cc3ccccc3C2C(=O)Nc2ccc(Cl)cc2Cl)ccc1O...  NaN  -0.558425\n",
       "2222  COc1cccc2c1c(NS(=O)(=O)c1ccc(Cl)s1)nn2Cc1cccc(...  NaN  -0.457888\n",
       "2223  CO[C@H]1CC[C@]2(CC1)Cc1ccc(-c3cc(Cl)cc(C#N)c3)...  NaN  -0.606883\n",
       "2224  COc1ccc(COc2nc(Br)cnc2NS(=O)(=O)c2ccc(C)cc2)cc...  NaN  -0.236706\n",
       "\n",
       "[2225 rows x 3 columns]"
      ]
     },
     "execution_count": 1,
     "metadata": {},
     "output_type": "execute_result"
    }
   ],
   "source": [
    "# Get DataFrame\n",
    "from src.tdc_constant import TDC\n",
    "from src.tdc_data import get_data_df, get_mtl_data_df\n",
    "\n",
    "get_data_df(TDC.Clearance, datasetType = 'train')\n",
    "get_mtl_data_df([TDC.Clearance, TDC.BBB], datasetType = 'train', scaled=True)\n"
   ]
  },
  {
   "cell_type": "code",
   "execution_count": null,
   "metadata": {},
   "outputs": [],
   "source": [
    "from src.tdc_constant import TDC\n",
    "from src.tdc_data import get_scaler\n",
    "\n",
    "clearance_scaler = get_scaler(TDC.Clearance)\n",
    "solubility_scaler = get_scaler(TDC.Solubility)\n",
    "\n",
    "from joblib import dump, load\n",
    "\n",
    "dump(clearance_scaler, \"clearance_scaler.bin\", compress=True)\n",
    "dump(solubility_scaler, \"solubility_scaler.bin\", compress=True)\n",
    "\n",
    "sc = load(\"solubility_scaler.bin\")\n",
    "print(sc.mean_)"
   ]
  },
  {
   "cell_type": "markdown",
   "metadata": {},
   "source": [
    "## Get Embedding Vector"
   ]
  },
  {
   "cell_type": "code",
   "execution_count": 6,
   "metadata": {},
   "outputs": [],
   "source": [
    "# Get embedding vector\n",
    "model_name = 'MTL2_DropRatio0.2/MolCLR_[BBB, CYP3A4, Clearance, Solubility]_sc-12.13_1830.pt'\n",
    "modelf=f'ckpts/{model_name}'\n",
    "\n",
    "device = 'cuda:0'"
   ]
  },
  {
   "cell_type": "code",
   "execution_count": 7,
   "metadata": {},
   "outputs": [
    {
     "name": "stdout",
     "output_type": "stream",
     "text": [
      "Loaded pre-trained model with success.\n"
     ]
    }
   ],
   "source": [
    "from src.ginet_finetune import GINet_Feat, GINet_Feat_MTL, load_pre_trained_weights\n",
    "\n",
    "best_model = GINet_Feat(\n",
    "    pool=\"mean\",\n",
    "    drop_ratio=0,\n",
    ").to(device)\n",
    "best_model = load_pre_trained_weights(best_model, \"gin.\", device, modelf).to(device)\n",
    "\n",
    "# Try several times to check loading correctly\n",
    "print(best_model.gnns[0].edge_embedding1.weight[:5])\n",
    "# print(best_model.mtl.pred_heads[0][0].weight[:5])"
   ]
  },
  {
   "cell_type": "code",
   "execution_count": 15,
   "metadata": {},
   "outputs": [
    {
     "name": "stderr",
     "output_type": "stream",
     "text": [
      "/tmp/ipykernel_20812/2973276160.py:15: FutureWarning: Setting an item of incompatible dtype is deprecated and will raise in a future error of pandas. Value '1' has dtype incompatible with float64, please explicitly cast to a compatible dtype first.\n",
      "  df.at[smiles, \"1\"] = \"1\"\n"
     ]
    }
   ],
   "source": [
    "import torch\n",
    "import numpy as np\n",
    "import pandas as pd\n",
    "from src.dataset_mtl import smilesToGeometric\n",
    "\n",
    "drug_dataset = (\n",
    "    \"/data/project/aigenintern/2023-2/DCC/DrugMAP_approved_smallmolecule_drug.csv\"\n",
    ")\n",
    "drug_df = pd.read_csv(drug_dataset)\n",
    "\n",
    "comp_dataset = \"/data/project/aigenintern/2023-2/DCC/ZINC_compound.csv\"\n",
    "comp_df = pd.read_csv(comp_dataset)\n",
    "\n",
    "df = pd.DataFrame()\n",
    "df.index.name = \"SMILES\"\n",
    "df[\"isDrug\"] = pd.Series(dtype=\"bool\")\n",
    "\n",
    "embedding_vector_list = []\n",
    "smiles_list = []\n",
    "isDrug_list = []\n",
    "\n",
    "best_model.eval()\n",
    "\n",
    "\n",
    "def convertSmiles(lst, isDrug):\n",
    "    for smiles in lst:\n",
    "        data = smilesToGeometric(smiles)\n",
    "        data.batch = torch.tensor([0] * len(data.x))\n",
    "        embedding_vector = (\n",
    "            best_model(data.to(device)).flatten().flatten().detach().cpu().numpy()\n",
    "        )\n",
    "\n",
    "        embedding_vector_list.append(embedding_vector.tolist())\n",
    "        smiles_list.append(smiles)\n",
    "        isDrug_list.append(isDrug)\n",
    "\n",
    "\n",
    "convertSmiles(drug_df[\"rdkit_canonical_smiles\"].values, True)\n",
    "convertSmiles(comp_df[\"rdkit_canonical_smiles\"].values, False)\n",
    "\n",
    "print(len(smiles_list))\n",
    "\n",
    "df = pd.DataFrame(np.array(embedding_vector_list))\n",
    "df = df.assign(SMILES=smiles_list)\n",
    "df = df.assign(isDrug=isDrug_list)\n",
    "df.set_index(\"SMILES\", inplace=True)\n",
    "\n",
    "df.to_csv(\"chem_space.csv\")"
   ]
  }
 ],
 "metadata": {
  "kernelspec": {
   "display_name": "env1",
   "language": "python",
   "name": "env1"
  },
  "language_info": {
   "codemirror_mode": {
    "name": "ipython",
    "version": 3
   },
   "file_extension": ".py",
   "mimetype": "text/x-python",
   "name": "python",
   "nbconvert_exporter": "python",
   "pygments_lexer": "ipython3",
   "version": "3.9.18"
  }
 },
 "nbformat": 4,
 "nbformat_minor": 4
}
