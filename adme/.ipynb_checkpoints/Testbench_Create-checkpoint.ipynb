{
 "cells": [
  {
   "cell_type": "markdown",
   "metadata": {},
   "source": [
    "# Fetch checkpoint models and test"
   ]
  },
  {
   "cell_type": "code",
   "execution_count": 1,
   "metadata": {},
   "outputs": [],
   "source": [
    "from dotmap import DotMap\n",
    "from src.tdc_constant import TDC\n",
    "\n",
    "args = DotMap({\n",
    "    'device':'cuda:2',\n",
    "    'pred_layer_depth': 2,\n",
    "    'output': 'testbench.csv',\n",
    "})\n",
    "\n",
    "folder_list = [\n",
    "    \"ckpts/MTL1_Scaled\",\n",
    "    \"ckpts/MTL2_DropRatio0.2\",\n",
    "    \"ckpts/MTL3_DropRatio0.5\",\n",
    "    \"ckpts/MTL4_DropRatio0.7\",\n",
    "]"
   ]
  },
  {
   "cell_type": "code",
   "execution_count": 2,
   "metadata": {},
   "outputs": [],
   "source": [
    "# Reload modules before run\n",
    "%load_ext autoreload\n",
    "%autoreload 2"
   ]
  },
  {
   "cell_type": "code",
   "execution_count": 3,
   "metadata": {},
   "outputs": [
    {
     "name": "stdout",
     "output_type": "stream",
     "text": [
      "['ckpts/MTL1_Scaled/MolCLR_[X, CYP3A4, X, Solubility]_sc-12.13_1617.pt', 'ckpts/MTL1_Scaled/MolCLR_[BBB, X, X, Solubility]_sc-12.06_0842.pt', 'ckpts/MTL1_Scaled/MolCLR_[X, X, Clearance, X]_sc-12.13_1630.pt', 'ckpts/MTL1_Scaled/MolCLR_[BBB, CYP3A4, Clearance, Solubility]-12.06_0025.pt', 'ckpts/MTL1_Scaled/MolCLR_[BBB, X, X, X]_sc-12.06_0034.pt', 'ckpts/MTL1_Scaled/MolCLR_[BBB, CYP3A4, X, X]_sc-12.06_0827.pt', 'ckpts/MTL1_Scaled/MolCLR_[X, CYP3A4, X, X]_sc-12.13_1617.pt', 'ckpts/MTL1_Scaled/MolCLR_[X, X, X, Solubility]_sc-12.13_1631.pt', 'ckpts/MTL1_Scaled/MolCLR_[X, CYP3A4, Clearance, Solubility]_sc-12.06_1445.pt', 'ckpts/MTL1_Scaled/MolCLR_[BBB, X, Clearance, Solubility]_sc-12.06_0801.pt', 'ckpts/MTL1_Scaled/MolCLR_[X, CYP3A4, Clearance, X]_sc-12.13_1617.pt', 'ckpts/MTL1_Scaled/MolCLR_[BBB, CYP3A4, Clearance, X]_sc-12.06_0914.pt', 'ckpts/MTL1_Scaled/MolCLR_[BBB, X, Clearance, X]_sc-12.06_0843.pt', 'ckpts/MTL1_Scaled/MolCLR_[BBB, CYP3A4, X, Solubility]_sc-12.06_0759.pt', 'ckpts/MTL1_Scaled/MolCLR_[X, X, Clearance, Solubility]_sc-12.13_1617.pt', 'ckpts/MTL2_DropRatio0.2/MolCLR_[X, CYP3A4, Clearance, Solubility]_sc-12.13_1917.pt', 'ckpts/MTL2_DropRatio0.2/MolCLR_[BBB, CYP3A4, Clearance, Solubility]_sc-12.13_1830.pt', 'ckpts/MTL2_DropRatio0.2/MolCLR_[X, CYP3A4, X, X]_sc-12.13_2004.pt', 'ckpts/MTL2_DropRatio0.2/MolCLR_[BBB, X, Clearance, Solubility]_sc-12.13_1830.pt', 'ckpts/MTL2_DropRatio0.2/MolCLR_[BBB, X, X, X]_sc-12.13_2005.pt', 'ckpts/MTL2_DropRatio0.2/MolCLR_[BBB, X, X, Solubility]_sc-12.13_1912.pt', 'ckpts/MTL2_DropRatio0.2/MolCLR_[X, X, Clearance, X]_sc-12.13_1958.pt', 'ckpts/MTL2_DropRatio0.2/MolCLR_[X, CYP3A4, X, Solubility]_sc-12.13_1916.pt', 'ckpts/MTL2_DropRatio0.2/MolCLR_[BBB, CYP3A4, X, X]_sc-12.13_1851.pt', 'ckpts/MTL2_DropRatio0.2/MolCLR_[BBB, CYP3A4, X, Solubility]_sc-12.13_1830.pt', 'ckpts/MTL2_DropRatio0.2/MolCLR_[X, X, Clearance, Solubility]_sc-12.13_1851.pt', 'ckpts/MTL2_DropRatio0.2/MolCLR_[BBB, X, Clearance, X]_sc-12.13_1846.pt', 'ckpts/MTL2_DropRatio0.2/MolCLR_[X, X, X, Solubility]_sc-12.13_1907.pt', 'ckpts/MTL2_DropRatio0.2/MolCLR_[X, CYP3A4, Clearance, X]_sc-12.13_1931.pt', 'ckpts/MTL2_DropRatio0.2/MolCLR_[BBB, CYP3A4, Clearance, X]_sc-12.13_1830.pt', 'ckpts/MTL3_DropRatio0.5/MolCLR_[X, X, Clearance, Solubility]_sc-12.13_2201.pt', 'ckpts/MTL3_DropRatio0.5/MolCLR_[BBB, CYP3A4, Clearance, X]_sc-12.13_2047.pt', 'ckpts/MTL3_DropRatio0.5/MolCLR_[X, X, Clearance, X]_sc-12.13_2315.pt', 'ckpts/MTL3_DropRatio0.5/MolCLR_[BBB, X, X, Solubility]_sc-12.13_2205.pt', 'ckpts/MTL3_DropRatio0.5/MolCLR_[BBB, X, Clearance, X]_sc-12.13_2154.pt', 'ckpts/MTL3_DropRatio0.5/MolCLR_[BBB, X, Clearance, Solubility]_sc-12.13_2255.pt', 'ckpts/MTL3_DropRatio0.5/MolCLR_[BBB, X, X, X]_sc-12.13_2132.pt', 'ckpts/MTL3_DropRatio0.5/MolCLR_[X, CYP3A4, X, Solubility]_sc-12.13_2108.pt', 'ckpts/MTL3_DropRatio0.5/MolCLR_[X, CYP3A4, Clearance, Solubility]_sc-12.13_2116.pt', 'ckpts/MTL3_DropRatio0.5/MolCLR_[X, CYP3A4, X, X]_sc-12.13_2108.pt', 'ckpts/MTL3_DropRatio0.5/MolCLR_[BBB, CYP3A4, Clearance, Solubility]_sc-12.13_2047.pt', 'ckpts/MTL3_DropRatio0.5/MolCLR_[BBB, CYP3A4, X, Solubility]_sc-12.13_2047.pt', 'ckpts/MTL3_DropRatio0.5/MolCLR_[BBB, CYP3A4, X, X]_sc-12.13_2047.pt', 'ckpts/MTL3_DropRatio0.5/MolCLR_[X, X, X, Solubility]_sc-12.13_2136.pt', 'ckpts/MTL3_DropRatio0.5/MolCLR_[X, CYP3A4, Clearance, X]_sc-12.13_2135.pt', 'ckpts/MTL4_DropRatio0.7/MolCLR_[BBB, CYP3A4, Clearance, Solubility]_sc-12.14_1029.pt', 'ckpts/MTL4_DropRatio0.7/MolCLR_[X, CYP3A4, X, Solubility]_sc-12.14_1059.pt', 'ckpts/MTL4_DropRatio0.7/MolCLR_[BBB, CYP3A4, X, Solubility]_sc-12.14_1029.pt', 'ckpts/MTL4_DropRatio0.7/MolCLR_[X, X, Clearance, X]_sc-12.14_1123.pt', 'ckpts/MTL4_DropRatio0.7/MolCLR_[BBB, CYP3A4, Clearance, X]_sc-12.14_1029.pt', 'ckpts/MTL4_DropRatio0.7/MolCLR_[X, X, X, Solubility]_sc-12.14_1135.pt', 'ckpts/MTL4_DropRatio0.7/MolCLR_[BBB, X, X, X]_sc-12.14_1129.pt', 'ckpts/MTL4_DropRatio0.7/MolCLR_[X, CYP3A4, X, X]_sc-12.14_1108.pt', 'ckpts/MTL4_DropRatio0.7/MolCLR_[BBB, CYP3A4, X, X]_sc-12.14_1029.pt', 'ckpts/MTL4_DropRatio0.7/MolCLR_[BBB, X, X, Solubility]_sc-12.14_1114.pt', 'ckpts/MTL4_DropRatio0.7/MolCLR_[BBB, X, Clearance, X]_sc-12.14_1150.pt', 'ckpts/MTL4_DropRatio0.7/MolCLR_[X, CYP3A4, Clearance, X]_sc-12.14_1126.pt', 'ckpts/MTL4_DropRatio0.7/MolCLR_[X, CYP3A4, Clearance, Solubility]_sc-12.14_1045.pt', 'ckpts/MTL4_DropRatio0.7/MolCLR_[X, X, Clearance, Solubility]_sc-12.14_1201.pt', 'ckpts/MTL4_DropRatio0.7/MolCLR_[BBB, X, Clearance, Solubility]_sc-12.14_1105.pt']\n"
     ]
    }
   ],
   "source": [
    "from src.testbench_code import find_pt_files, extract_tdcList\n",
    "\n",
    "modelPathList = find_pt_files(folder_list)\n",
    "print(modelPathList)"
   ]
  },
  {
   "cell_type": "code",
   "execution_count": 4,
   "metadata": {},
   "outputs": [],
   "source": [
    "from src.testbench_code import TestbenchHelper\n",
    "\n",
    "helper = TestbenchHelper(args.device, args.pred_layer_depth)"
   ]
  },
  {
   "cell_type": "code",
   "execution_count": 5,
   "metadata": {},
   "outputs": [],
   "source": [
    "def eval_task(model, tdc, predIndex, scaled):\n",
    "    loader = helper.get_testloader(tdc)\n",
    "    criterion = helper.get_criterion(tdc)\n",
    "    \n",
    "    model.eval()  # Set to eval mode\n",
    "    eval_loss = 0\n",
    "    with torch.no_grad():\n",
    "        for batch in loader:\n",
    "            batch = batch.to(args.device)\n",
    "            label = batch.y.squeeze()\n",
    "            pred = model(batch)\n",
    "            pred = pred[:, predIndex]\n",
    "            \n",
    "            if scaled:\n",
    "                scaler = helper.get_scaler(tdc)\n",
    "                pred = scaler.inverse_transform(pred.cpu().reshape(-1, 1))\n",
    "                pred = torch.Tensor(pred.flatten()).to(args.device)\n",
    "            eval_loss += criterion(pred, label).item()\n",
    "    avg_eval_loss = eval_loss / len(loader)\n",
    "\n",
    "    return avg_eval_loss"
   ]
  },
  {
   "cell_type": "code",
   "execution_count": 6,
   "metadata": {},
   "outputs": [],
   "source": [
    "def eval_accuracy(model, tdc, predIndex):\n",
    "    loader = helper.get_testloader(tdc)\n",
    "    criterion = helper.get_criterion(tdc)\n",
    "    \n",
    "    preds = []\n",
    "    ys = []\n",
    "    with torch.no_grad():\n",
    "         for batch in loader:\n",
    "            batch = batch.to(args.device)\n",
    "            label = batch.y.squeeze()\n",
    "            pred = model(batch)\n",
    "            pred = pred[:, predIndex]\n",
    "            \n",
    "            preds.append(pred.reshape(-1))\n",
    "            ys.append(label.reshape(-1))\n",
    "\n",
    "    preds = torch.cat(preds, dim=0) # flatten into 1 dimension\n",
    "    ys = torch.cat(ys, dim=0)\n",
    "\n",
    "    pred_final = torch.nn.Sigmoid()(preds)\n",
    "    correct = (torch.abs(pred_final - ys) < 0.5).float().sum()\n",
    "    accuracy = 100 * correct / len(pred_final)\n",
    "    \n",
    "    return accuracy"
   ]
  },
  {
   "cell_type": "code",
   "execution_count": null,
   "metadata": {},
   "outputs": [],
   "source": [
    "import torch\n",
    "import pandas as pd\n",
    "\n",
    "df = pd.DataFrame()\n",
    "for tdc in TDC.allList:\n",
    "    df[str(tdc)] = pd.Series(dtype='object')\n",
    "    if not tdc.isRegression():\n",
    "        df[f\"{tdc}_Acc\"] = pd.Series(dtype='object')\n",
    "\n",
    "# pred = [tdc1, tdc2, ...] with order specified in path\n",
    "for model_path in modelPathList:\n",
    "    tdcList, scaled = extract_tdcList(model_path)\n",
    "    model = helper.get_model(tdcList)\n",
    "    model.load_state_dict(torch.load(model_path, map_location=args.device))\n",
    "    model.eval()  # Set to eval mode\n",
    "    \n",
    "    for tdc in tdcList:\n",
    "        predIndex = tdcList.index(tdc)\n",
    "        test_loss = eval_task(\n",
    "            model, tdc=tdc, predIndex=predIndex, scaled=scaled and tdc.isRegression()\n",
    "        )\n",
    "        df.at[model_path, str(tdc)] = f\"{test_loss:.4f}\"\n",
    "        \n",
    "        if not tdc.isRegression():\n",
    "            accuracy = eval_accuracy(model, tdc=tdc, predIndex=predIndex)\n",
    "            df.at[model_path, f\"{tdc}_Acc\"] = f\"{accuracy:.1f}\"\n",
    "\n",
    "df.to_csv(args.output)"
   ]
  }
 ],
 "metadata": {
  "kernelspec": {
   "display_name": "env1",
   "language": "python",
   "name": "env1"
  },
  "language_info": {
   "codemirror_mode": {
    "name": "ipython",
    "version": 3
   },
   "file_extension": ".py",
   "mimetype": "text/x-python",
   "name": "python",
   "nbconvert_exporter": "python",
   "pygments_lexer": "ipython3",
   "version": "3.9.18"
  }
 },
 "nbformat": 4,
 "nbformat_minor": 4
}
