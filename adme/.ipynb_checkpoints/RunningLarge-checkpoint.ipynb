{
 "cells": [
  {
   "cell_type": "code",
   "execution_count": 1,
   "metadata": {},
   "outputs": [],
   "source": [
    "# Setup args for config\n",
    "from dotmap import DotMap\n",
    "args = DotMap({\n",
    "    'device':'cuda:0',\n",
    "    'learning_config': {\n",
    "        'gin_drop_ratio': 0.7,    # drop ratio for GIN encoder\n",
    "        'pred_layer_depth': 2,  # dimension of pred layer = feat_dim // 2\n",
    "        'init_pred_lr': 2e-3, # initial learning rate for the prediction head\n",
    "        'init_base_lr': 1e-4, # initial learning rate for the base GIN encoder\n",
    "        'weight_decay': 1e-6,   # weight decay of Adam\n",
    "        'patience': 15, # early stopping patience\n",
    "    },\n",
    "    'scaled' : True, # Solubility, Clearance data will be scaled for training\n",
    "})\n",
    "args.load_config.load = False\n",
    "\n",
    "from src.tdc_constant import TDC\n",
    "dataList = [\n",
    "#     TDC.get_ordered_list([TDC.BBB, TDC.Solubility, TDC.CYP3A4, TDC.Clearance]),\n",
    "    TDC.get_ordered_list([TDC.BBB, TDC.Solubility, TDC.CYP3A4, TDC.Clearance]),\n",
    "    TDC.get_ordered_list([TDC.CYP3A4, TDC.Clearance]),\n",
    "    TDC.get_ordered_list([TDC.BBB, TDC.Clearance]),\n",
    "    TDC.get_ordered_list([TDC.Solubility, TDC.Clearance]),    \n",
    "]"
   ]
  },
  {
   "cell_type": "code",
   "execution_count": 2,
   "metadata": {},
   "outputs": [],
   "source": [
    "# Reload modules before run\n",
    "%load_ext autoreload\n",
    "%autoreload 2"
   ]
  },
  {
   "cell_type": "code",
   "execution_count": null,
   "metadata": {},
   "outputs": [
    {
     "name": "stdout",
     "output_type": "stream",
     "text": [
      "Loaded pre-trained model with success.\n",
      "mtl.pred_heads.0.0.weight True\n",
      "mtl.pred_heads.0.0.bias True\n",
      "mtl.pred_heads.0.2.weight True\n",
      "mtl.pred_heads.0.2.bias True\n",
      "mtl.pred_heads.0.4.weight True\n",
      "mtl.pred_heads.0.4.bias True\n",
      "mtl.pred_heads.1.0.weight True\n",
      "mtl.pred_heads.1.0.bias True\n",
      "mtl.pred_heads.1.2.weight True\n",
      "mtl.pred_heads.1.2.bias True\n",
      "mtl.pred_heads.1.4.weight True\n",
      "mtl.pred_heads.1.4.bias True\n",
      "mtl.pred_heads.2.0.weight True\n",
      "mtl.pred_heads.2.0.bias True\n",
      "mtl.pred_heads.2.2.weight True\n",
      "mtl.pred_heads.2.2.bias True\n",
      "mtl.pred_heads.2.4.weight True\n",
      "mtl.pred_heads.2.4.bias True\n",
      "mtl.pred_heads.3.0.weight True\n",
      "mtl.pred_heads.3.0.bias True\n",
      "mtl.pred_heads.3.2.weight True\n",
      "mtl.pred_heads.3.2.bias True\n",
      "mtl.pred_heads.3.4.weight True\n",
      "mtl.pred_heads.3.4.bias True\n"
     ]
    }
   ],
   "source": [
    "from runner import run\n",
    "\n",
    "for data in dataList:\n",
    "    args.data = data\n",
    "    args.learning_config.num_tasks = len(args.data)\n",
    "    run(args)\n"
   ]
  },
  {
   "cell_type": "code",
   "execution_count": null,
   "metadata": {},
   "outputs": [],
   "source": []
  }
 ],
 "metadata": {
  "kernelspec": {
   "display_name": "env1",
   "language": "python",
   "name": "env1"
  },
  "language_info": {
   "codemirror_mode": {
    "name": "ipython",
    "version": 3
   },
   "file_extension": ".py",
   "mimetype": "text/x-python",
   "name": "python",
   "nbconvert_exporter": "python",
   "pygments_lexer": "ipython3",
   "version": "3.9.18"
  }
 },
 "nbformat": 4,
 "nbformat_minor": 4
}
